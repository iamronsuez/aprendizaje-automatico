{
  "cells": [
    {
      "cell_type": "markdown",
      "metadata": {
        "id": "view-in-github",
        "colab_type": "text"
      },
      "source": [
        "<a href=\"https://colab.research.google.com/github/iamronsuez/aprendizaje-automatico/blob/main/Actividad_3_grupal.ipynb\" target=\"_parent\"><img src=\"https://colab.research.google.com/assets/colab-badge.svg\" alt=\"Open In Colab\"/></a>"
      ]
    },
    {
      "cell_type": "markdown",
      "id": "8f953f73",
      "metadata": {
        "id": "8f953f73"
      },
      "source": [
        "_Aprendizaje Automático_\n",
        "\n",
        "_Máster Universitario en Inteligencia Artificial_\n",
        "\n",
        "# Caso grupal: Detección de anomalías y técnicas de agrupamiento\n",
        "\n",
        "## Objetivos\n",
        "\n",
        "- Entender el método de clustering K-means.\n",
        "- Generar agrupamientos con los métodos de clustering indicados y realizar una comparativa de ambos.\n",
        "- Investigar sobre una técnica de detección de anomalías con un caso de uso concreto.\n",
        "\n",
        "\n",
        "## Descripción de la actividad\n",
        "\n",
        "El conjunto de datos con el cual vamos a trabajar se encuentra en el siguiente enlace http://archive.ics.uci.edu/ml/datasets/Individual+household+electric+power+consumption\n",
        "\n",
        "Se trata de un dataset que contiene mediciones del consumo de energía eléctrica en un hogar con una tasa de muestreo de un minuto durante un período de casi 4 años. Están disponibles diferentes magnitudes eléctricas y algunos valores de submedición. Debe descargarse el fichero comprimido que se encuentra en la carpeta 'Data Folder'.\n",
        "\n",
        "### Tareas que se deben realizar\n",
        "- Clustering\n",
        "  - Debes completar el código pedido en este notebook y contestar las preguntas finales.\n",
        "- Detección de anomalías\n",
        "  - Buscar dos artículos científicos (https://scholar.google.es/) con un caso de uso de detección de anomalías. Los artículos deben estar en revistas científicas, y deben ser posteriores a 2015. No debe utilizar técnicas de Deep Learning.\n",
        "  - Para cada artículo indicar:\n",
        "    - Objetivo: cuál es el objetivo de la investigación, es decir a qué problema real está aplicando la detección de anomalías.\n",
        "    - Técnicas de detección de anomalías empleadas.\n",
        "    - Principales resultados de la aplicación y de la investigación.\n"
      ]
    },
    {
      "cell_type": "markdown",
      "id": "46d3c173",
      "metadata": {
        "id": "46d3c173"
      },
      "source": [
        "### Clustering\n",
        "\n",
        "Comenzamos importando las librerías necesarias y cargando el dataset."
      ]
    },
    {
      "cell_type": "code",
      "execution_count": null,
      "id": "0b5d68d4",
      "metadata": {
        "colab": {
          "base_uri": "https://localhost:8080/"
        },
        "id": "0b5d68d4",
        "outputId": "068774eb-152c-44b2-e3c2-62c2de8724b5"
      },
      "outputs": [
        {
          "output_type": "stream",
          "name": "stderr",
          "text": [
            "<ipython-input-4-072f94f28fc1>:5: MatplotlibDeprecationWarning: The seaborn styles shipped by Matplotlib are deprecated since 3.6, as they no longer correspond to the styles shipped by seaborn. However, they will remain available as 'seaborn-v0_8-<style>'. Alternatively, directly use the seaborn API instead.\n",
            "  plt.style.use('seaborn')\n"
          ]
        }
      ],
      "source": [
        "import numpy as np\n",
        "import pandas as pd\n",
        "from matplotlib import pyplot as plt\n",
        "import seaborn as sns\n",
        "plt.style.use('seaborn')\n",
        "\n",
        "# se carga el dataset, con separados ;, se transforman las dos columnas Date y Time a una única columna con tipo datetime\n",
        "# en el fichero CSV existen NaN identificados por ?\n",
        "df = pd.read_csv('./household_power_consumption.txt', sep=';', parse_dates={'dt' : ['Date', 'Time']}, infer_datetime_format=True,low_memory=False,na_values=['nan','?'])\n"
      ]
    },
    {
      "cell_type": "code",
      "source": [
        "from google.colab import drive\n",
        "drive.mount('/content/drive')"
      ],
      "metadata": {
        "id": "2C8aVp9l3ign"
      },
      "id": "2C8aVp9l3ign",
      "execution_count": null,
      "outputs": []
    },
    {
      "cell_type": "code",
      "execution_count": null,
      "id": "3adfca08",
      "metadata": {
        "id": "3adfca08"
      },
      "outputs": [],
      "source": [
        "## cuántas instancias tiene el dataset\n",
        "## ref (2075259)"
      ]
    },
    {
      "cell_type": "code",
      "execution_count": null,
      "id": "38db287b",
      "metadata": {
        "id": "38db287b"
      },
      "outputs": [],
      "source": [
        "### PON AQUÍ TU CÓDIGO\n",
        "len(df)"
      ]
    },
    {
      "cell_type": "code",
      "execution_count": null,
      "id": "713a7dc1",
      "metadata": {
        "id": "713a7dc1"
      },
      "outputs": [],
      "source": [
        "## cuál es el tipo de datos de la variable 'Voltage'.\n",
        "## ref D"
      ]
    },
    {
      "cell_type": "code",
      "execution_count": null,
      "id": "2e265355",
      "metadata": {
        "id": "2e265355"
      },
      "outputs": [],
      "source": [
        "### PON AQUÍ TU CÓDIGO\n",
        "df['Voltage'].dtype"
      ]
    },
    {
      "cell_type": "markdown",
      "id": "0ccb8724",
      "metadata": {
        "id": "0ccb8724"
      },
      "source": [
        "La variable Voltage es de tipo Float64 o Dobule\n"
      ]
    },
    {
      "cell_type": "code",
      "execution_count": null,
      "id": "39baeb18",
      "metadata": {
        "id": "39baeb18"
      },
      "outputs": [],
      "source": [
        "## ¿es una variable continua o categórica?\n",
        "## ref Continuous\n",
        "df['Voltage'].nunique()"
      ]
    },
    {
      "cell_type": "markdown",
      "id": "8894fb1a",
      "metadata": {
        "id": "8894fb1a"
      },
      "source": [
        "\n",
        "Es una variable continua, ya que las variables continuas tienden a tener mas de dos valores"
      ]
    },
    {
      "cell_type": "code",
      "execution_count": null,
      "id": "10ae23e5",
      "metadata": {
        "id": "10ae23e5"
      },
      "outputs": [],
      "source": [
        "# ¿cuáles son los valores mínimo y máximo de la variable 'Voltage'?"
      ]
    },
    {
      "cell_type": "code",
      "execution_count": null,
      "id": "65520a6a",
      "metadata": {
        "id": "65520a6a"
      },
      "outputs": [],
      "source": [
        "### PON AQUÍ TU CÓDIGO\n",
        "\n",
        "min_value = df['Voltage'].min()\n",
        "min_value"
      ]
    },
    {
      "cell_type": "code",
      "source": [
        "max_value = df['Voltage'].max()\n",
        "max_value"
      ],
      "metadata": {
        "id": "7rsln126y2pY"
      },
      "id": "7rsln126y2pY",
      "execution_count": null,
      "outputs": []
    },
    {
      "cell_type": "markdown",
      "id": "c0cf828e",
      "metadata": {
        "id": "c0cf828e"
      },
      "source": [
        "Valor minimo: 223.2\n",
        "Valor maximo: 254.15"
      ]
    },
    {
      "cell_type": "code",
      "execution_count": null,
      "id": "39f951e4",
      "metadata": {
        "id": "39f951e4"
      },
      "outputs": [],
      "source": [
        "# ¿existe alguna variable con más del 30% de valores faltantes?"
      ]
    },
    {
      "cell_type": "code",
      "execution_count": null,
      "id": "09dbd797",
      "metadata": {
        "id": "09dbd797"
      },
      "outputs": [],
      "source": [
        "## PON AQUÍ TU CÓDIGO\n",
        "missing_pcts = df.isna().mean()\n",
        "\n",
        "missing_pcts_above_30 = missing_pcts[missing_pcts > 0.3]\n",
        "\n",
        "missing_pcts_above_30"
      ]
    },
    {
      "cell_type": "markdown",
      "id": "c3f0d414",
      "metadata": {
        "id": "c3f0d414"
      },
      "source": [
        "Existen variables con datos faltantes, pero ninguna sobre el 30%"
      ]
    },
    {
      "cell_type": "code",
      "execution_count": null,
      "id": "5e0a56c4",
      "metadata": {
        "id": "5e0a56c4"
      },
      "outputs": [],
      "source": [
        "# ¿cuántas variables categóricas hay en el dataset?\n",
        "## Ref Time"
      ]
    },
    {
      "cell_type": "code",
      "execution_count": null,
      "id": "7c1a9a3d",
      "metadata": {
        "id": "7c1a9a3d"
      },
      "outputs": [],
      "source": [
        "### PON AQUÍ TU CÓDIGO\n",
        "for column in df.columns:\n",
        "    print(f\"{column}: {df[column].nunique()} valores únicos\")"
      ]
    },
    {
      "cell_type": "markdown",
      "id": "b908ec3d",
      "metadata": {
        "id": "b908ec3d"
      },
      "source": [
        "Indica las categorías de cada una de ellas si las hubiera."
      ]
    },
    {
      "cell_type": "markdown",
      "id": "6c4e8033",
      "metadata": {
        "id": "6c4e8033"
      },
      "source": [
        "Segun el dataset, la variable categorica definida es Time, que fue convertida en dt.\n",
        "\n",
        "Realizando el analisis de los valores unicos del dataframe, podemos ver que no existe un criterio claro para decidir que una variable es categorica ya que todas tienen un comportamiento como variables continuas.\n",
        "\n",
        "En conclusion podemos decir que ninguna es categorica.\n"
      ]
    },
    {
      "cell_type": "markdown",
      "id": "8db8b4d7",
      "metadata": {
        "id": "8db8b4d7"
      },
      "source": [
        "Para los algoritmos de clustering el dataset no puede tener instancias con datos faltantes. ¿Tiene este dataset datos faltantes?"
      ]
    },
    {
      "cell_type": "code",
      "execution_count": null,
      "id": "a862f980",
      "metadata": {
        "id": "a862f980"
      },
      "outputs": [],
      "source": [
        "### PON AQUÍ TU CÓDIGO\n",
        "df.isna().any().any()"
      ]
    },
    {
      "cell_type": "markdown",
      "id": "afa89aff",
      "metadata": {
        "id": "afa89aff"
      },
      "source": [
        "Si, efectivamente tiene datos faltantes, ya lo vimos en el % de datos faltantes"
      ]
    },
    {
      "cell_type": "markdown",
      "id": "d051978b",
      "metadata": {
        "id": "d051978b"
      },
      "source": [
        "Existen diferentes alternativas para completar los datos faltantes, algunas de ellas las hemos estudiado en la asignatura.\n",
        "Sin embargo, en esta actividad vamos a prescindir de estos datos."
      ]
    },
    {
      "cell_type": "code",
      "execution_count": null,
      "id": "034f0326",
      "metadata": {
        "id": "034f0326"
      },
      "outputs": [],
      "source": [
        "df.dropna(inplace=True)\n",
        "df.isna().any().any()"
      ]
    },
    {
      "cell_type": "markdown",
      "source": [
        "Se verifica que no tiene datos faltanes"
      ],
      "metadata": {
        "id": "quWlsgm24HHj"
      },
      "id": "quWlsgm24HHj"
    },
    {
      "cell_type": "code",
      "execution_count": null,
      "id": "a6d28693",
      "metadata": {
        "id": "a6d28693"
      },
      "outputs": [],
      "source": [
        "# Calcula las correlaciones de Pearson de las variables"
      ]
    },
    {
      "cell_type": "code",
      "execution_count": null,
      "id": "14a92b72",
      "metadata": {
        "id": "14a92b72"
      },
      "outputs": [],
      "source": [
        "### PON AQUÍ TU CÓDIGO\n",
        "df.corr(method='pearson',numeric_only=True)"
      ]
    },
    {
      "cell_type": "markdown",
      "id": "1a804b45",
      "metadata": {
        "id": "1a804b45"
      },
      "source": [
        "\n",
        "\n",
        "¿Cuál es la variable que tiene mayor correlación con 'Global_active_power'? ¿Son variables dependientes o independientes?"
      ]
    },
    {
      "cell_type": "code",
      "source": [
        "gap_corr = df.corr(method='pearson',numeric_only=True)['Global_active_power'].sort_values(ascending=False)\n",
        "gap_corr"
      ],
      "metadata": {
        "id": "mrRNFEUQjGzF"
      },
      "id": "mrRNFEUQjGzF",
      "execution_count": null,
      "outputs": []
    },
    {
      "cell_type": "markdown",
      "id": "9e5eb52d",
      "metadata": {
        "id": "9e5eb52d"
      },
      "source": [
        "\n",
        "\n",
        "La variable con mayor correlacion es Global_intensity"
      ]
    },
    {
      "cell_type": "markdown",
      "id": "eb8b2b8a",
      "metadata": {
        "id": "eb8b2b8a"
      },
      "source": [
        "¿Podemos eliminar alguna variable?"
      ]
    },
    {
      "cell_type": "code",
      "execution_count": null,
      "id": "4d15480d",
      "metadata": {
        "id": "4d15480d"
      },
      "outputs": [],
      "source": [
        "# eliminamos variable dt\n",
        "dataFrame = df.drop(columns='dt')"
      ]
    },
    {
      "cell_type": "markdown",
      "id": "698102f8",
      "metadata": {
        "id": "698102f8"
      },
      "source": [
        "¿Es necesario hacer algún tratamiendo adicional sobre los datos?"
      ]
    },
    {
      "cell_type": "markdown",
      "source": [
        "Sí, es común que los datos requieran tratamientos adicionales antes de aplicar métodos de clustering como el k-means. Uno de estos tratamientos es la estandarización de los datos, que se puede realizar mediante el uso de técnicas como el Standard Scaler.\n",
        "\n",
        "El Standard Scaler ajusta los datos de manera que tengan una media de 0 y una desviación estándar de 1. Este paso es importante porque el k-means utiliza distancias euclidianas para determinar la similitud entre los puntos de datos, y las variables con escalas más grandes pueden influir desproporcionadamente en el resultado del clustering."
      ],
      "metadata": {
        "id": "EQ5ryqetOMdk"
      },
      "id": "EQ5ryqetOMdk"
    },
    {
      "cell_type": "code",
      "execution_count": null,
      "id": "d19ad500",
      "metadata": {
        "id": "d19ad500"
      },
      "outputs": [],
      "source": [
        "### PON AQUÍ TU CÓDIGO EN CASO DE QUE SEA NECESARIO HACER ALGÚN TRATAMIENTO ADICIONAL\n",
        "df.describe()"
      ]
    },
    {
      "cell_type": "code",
      "source": [
        "from sklearn.preprocessing import StandardScaler\n",
        "scaler = StandardScaler()\n",
        "df[['Global_active_power_T', 'Global_reactive_power_T', 'Voltage_T',\n",
        "    'Global_intensity_T', 'Sub_metering_1_T',\n",
        "    'Sub_metering_2_T', 'Sub_metering_3_T']] = scaler.fit_transform(df[['Global_active_power',  'Global_reactive_power', 'Voltage', 'Global_intensity', 'Sub_metering_1', 'Sub_metering_2', 'Sub_metering_3']])\n",
        "df.describe()"
      ],
      "metadata": {
        "id": "TO71e1FgOURZ"
      },
      "id": "TO71e1FgOURZ",
      "execution_count": null,
      "outputs": []
    },
    {
      "cell_type": "markdown",
      "id": "2da1fb04",
      "metadata": {
        "id": "2da1fb04"
      },
      "source": [
        "Los métodos de clustering necesitan saber de antemano cuántos clusters deben crear.\n",
        "¿Cuál es uno de los métodos más populares para saber cuál es el número apropiado de clústers?"
      ]
    },
    {
      "cell_type": "markdown",
      "source": [
        "Uno de los métodos más populares para determinar el número apropiado de clusters en un análisis de clustering es el método del codo, o \"Elbow Method\" en inglés. Este método implica graficar la variación explicada como una función del número de clusters y buscar el punto en el cual el incremento en la variación explicada se reduce significativamente, creando un ángulo en el gráfico que se asemeja a un codo. Este punto es considerado como una indicación del número adecuado de clusters, ya que añadir más clusters más allá de este punto no mejora sustancialmente la varianza explicada por los modelos."
      ],
      "metadata": {
        "id": "u8hx7vELFIZA"
      },
      "id": "u8hx7vELFIZA"
    },
    {
      "cell_type": "markdown",
      "id": "382752da",
      "metadata": {
        "id": "382752da"
      },
      "source": [
        "Crea una lista de 20 modelos de KMeans y entrénalos.\n",
        "\n",
        "Haciendo uso del método indicado en la respuesta anterior, indica cuál es el número de clusters que parece más prometedor.\n",
        "\n",
        "El modelo de KMeans debe tener los siguientes parámetros:\n",
        "- n_clusters (entre 1 y 20)\n",
        "- init: k-means++\n",
        "- algorithm: algoritmo de Lloyd"
      ]
    },
    {
      "cell_type": "code",
      "execution_count": null,
      "id": "2c74e528",
      "metadata": {
        "id": "2c74e528"
      },
      "outputs": [],
      "source": [
        "def get_kmeans(data, max_k):\n",
        "    means = []\n",
        "    inertias = []\n",
        "    k_means= []\n",
        "    for k in range(1, max_k):\n",
        "        kmeans = KMeans(n_clusters=k,init='k-means++',n_init=10)\n",
        "        kmeans.fit(data)\n",
        "\n",
        "        means.append(k)\n",
        "        inertias.append(kmeans.inertia_)\n",
        "        k_means.append(kmeans)\n",
        "\n",
        "    return [k_means, means, inertias]\n",
        "\n",
        "def plot_inertias(means, inertias):\n",
        "    fig = plt.subplots(figsize=(10, 5))\n",
        "    plt.plot(means, inertias, 'o-')\n",
        "    plt.xlabel('N clusters')\n",
        "    plt.ylabel('Inertia')\n",
        "    plt.grid(True)\n",
        "    plt.show()"
      ]
    },
    {
      "cell_type": "code",
      "source": [
        "from sklearn.cluster import KMeans\n",
        "X=df[['Global_active_power_T', 'Global_reactive_power_T', 'Voltage_T',\n",
        "    'Global_intensity_T', 'Sub_metering_1_T',\n",
        "    'Sub_metering_2_T', 'Sub_metering_3_T']].copy()\n",
        "\n",
        "[k_means, means, inertias] = get_kmeans(X,20)\n",
        "plot_inertias(means, inertias)"
      ],
      "metadata": {
        "id": "RAcRCUH0OlTj"
      },
      "id": "RAcRCUH0OlTj",
      "execution_count": null,
      "outputs": []
    },
    {
      "cell_type": "code",
      "source": [
        "print(k_means, means, inertias)"
      ],
      "metadata": {
        "id": "z8ZJGSoKQ-6w"
      },
      "id": "z8ZJGSoKQ-6w",
      "execution_count": null,
      "outputs": []
    },
    {
      "cell_type": "markdown",
      "id": "b4bf5969",
      "metadata": {
        "id": "b4bf5969"
      },
      "source": [
        "A partir de estos resultados, ¿cómo sabemos cuál es el número óptimo de clústers? ¿qué número es?"
      ]
    },
    {
      "cell_type": "markdown",
      "id": "2037dbcc",
      "metadata": {
        "id": "2037dbcc"
      },
      "source": [
        "_indica aquí tu respuesta_"
      ]
    },
    {
      "cell_type": "code",
      "execution_count": null,
      "id": "f0eb131e",
      "metadata": {
        "id": "f0eb131e"
      },
      "outputs": [],
      "source": [
        "# Después de decidir el número de clusters, entrena el modelo con dicho número\n",
        "n = 4\n"
      ]
    },
    {
      "cell_type": "code",
      "execution_count": null,
      "id": "100ef0d9",
      "metadata": {
        "id": "100ef0d9"
      },
      "outputs": [],
      "source": [
        "kmeans = KMeans(n_clusters = n, n_init = 10, init='k-means++').fit(X)\n",
        "centroids = kmeans.cluster_centers_\n",
        "print(centroids)"
      ]
    },
    {
      "cell_type": "code",
      "execution_count": null,
      "id": "7d7f5516",
      "metadata": {
        "id": "7d7f5516"
      },
      "outputs": [],
      "source": [
        "kmeansmodel = KMeans(n_clusters = n, init='k-means++', random_state=0, n_init = 10)\n",
        "y_kmeans = kmeansmodel.fit_predict(X)"
      ]
    },
    {
      "cell_type": "markdown",
      "id": "476ec5ec",
      "metadata": {
        "id": "476ec5ec"
      },
      "source": [
        "Ahora toca interpretar lo que Kmeans ha realizado. Recordemos que el objetivo de KMeans es encontrar patrones en los datos.\n",
        "\n",
        "Lo primero que vamos a realizar es un gráfico para visualizar los clústers que ha creado en base a las variables utilizadas para crearlos."
      ]
    },
    {
      "cell_type": "code",
      "execution_count": null,
      "id": "4e3970a1",
      "metadata": {
        "id": "4e3970a1"
      },
      "outputs": [],
      "source": [
        "import plotly.express as px\n",
        "\n",
        "clusters = pd.DataFrame(X,columns=X.columns)\n",
        "clusters['label'] = kmeansmodel.labels_\n",
        "polar = clusters.groupby(\"label\").mean().reset_index()\n",
        "polar = pd.melt(polar,id_vars=[\"label\"])\n",
        "fig4 = px.line_polar(polar, r=\"value\", theta=\"variable\", color=\"label\", line_close=True,height=800,width=600)\n",
        "fig4.show()"
      ]
    },
    {
      "cell_type": "code",
      "source": [
        "import plotly.express as px\n",
        "\n",
        "clusters = X[['Sub_metering_2_T','Global_intensity_T']].copy()\n",
        "clusters = pd.DataFrame(clusters,columns=clusters.columns)\n",
        "clusters['label'] = y_kmeans\n",
        "clusters"
      ],
      "metadata": {
        "id": "O6sOhHod3Q9j"
      },
      "id": "O6sOhHod3Q9j",
      "execution_count": null,
      "outputs": []
    },
    {
      "cell_type": "markdown",
      "id": "54b9711a",
      "metadata": {
        "id": "54b9711a"
      },
      "source": [
        "En base a la figura de la representación de los clusters, ¿cuál es la variable que más nos ayuda a diferenciar los usos?"
      ]
    },
    {
      "cell_type": "markdown",
      "id": "722cb5a2",
      "metadata": {
        "id": "722cb5a2"
      },
      "source": [
        "_introduce aquí tu respuesta_"
      ]
    },
    {
      "cell_type": "code",
      "execution_count": null,
      "id": "11698ac7",
      "metadata": {
        "id": "11698ac7"
      },
      "outputs": [],
      "source": [
        "pie = clusters.groupby('label').size().reset_index()\n",
        "pie.columns = ['label','value']\n",
        "px.pie(pie,values ='value',names ='label')"
      ]
    },
    {
      "cell_type": "markdown",
      "id": "e19b1c36",
      "metadata": {
        "id": "e19b1c36"
      },
      "source": [
        "¿Qué representa el gráfico de la celda anterior?"
      ]
    },
    {
      "cell_type": "markdown",
      "id": "9a06154b",
      "metadata": {
        "id": "9a06154b"
      },
      "source": [
        "_introduce aquí tu respuesta_"
      ]
    },
    {
      "cell_type": "markdown",
      "id": "fbf36722",
      "metadata": {
        "id": "fbf36722"
      },
      "source": [
        "¿Qué características tiene el consumo del cluster 0?"
      ]
    },
    {
      "cell_type": "markdown",
      "id": "84568a51",
      "metadata": {
        "id": "84568a51"
      },
      "source": [
        "_introduce aquí tu respuesta_"
      ]
    },
    {
      "cell_type": "markdown",
      "id": "0badd89b",
      "metadata": {
        "id": "0badd89b"
      },
      "source": [
        "Repite lo mismo pero esta vez utiliza para el entrenamiento de KMeans el algortimo de 'Elkan', ¿existen diferencias en el número de clústers? ¿y en la importancia de las variables?"
      ]
    },
    {
      "cell_type": "code",
      "source": [
        "def get_kmeans_elkan(data, max_k):\n",
        "    means = []\n",
        "    inertias = []\n",
        "    k_means= []\n",
        "    for k in range(1, max_k):\n",
        "        kmeans = KMeans(n_clusters=k,init='k-means++',n_init=10, algorithm='elkan')\n",
        "        kmeans.fit(data)\n",
        "\n",
        "        means.append(k)\n",
        "        inertias.append(kmeans.inertia_)\n",
        "        k_means.append(kmeans)\n",
        "\n",
        "    return [k_means, means, inertias]"
      ],
      "metadata": {
        "id": "_M7yXsaLU90d"
      },
      "id": "_M7yXsaLU90d",
      "execution_count": null,
      "outputs": []
    },
    {
      "cell_type": "code",
      "source": [
        "X = df[['Global_active_power_T', 'Global_reactive_power_T', 'Voltage_T',\n",
        "    'Global_intensity_T', 'Sub_metering_1_T',\n",
        "    'Sub_metering_2_T', 'Sub_metering_3_T']].copy()\n",
        "\n",
        "X"
      ],
      "metadata": {
        "id": "8Dkl4HRwVcTY"
      },
      "id": "8Dkl4HRwVcTY",
      "execution_count": null,
      "outputs": []
    },
    {
      "cell_type": "code",
      "source": [
        "[k_means_elkan, means_elkan, inertias_elkan] = get_kmeans_elkan(X,20)\n",
        "plot_inertias(means_elkan, inertias_elkan)"
      ],
      "metadata": {
        "id": "-F-SYB2QVGRP"
      },
      "id": "-F-SYB2QVGRP",
      "execution_count": null,
      "outputs": []
    },
    {
      "cell_type": "code",
      "source": [
        "n = 4\n",
        "kmeans_elkan = KMeans(n_clusters = n, n_init = 10, init='k-means++', algorithm='elkan').fit(X)\n",
        "centroids = kmeans_elkan.cluster_centers_\n",
        "print(centroids)\n",
        "\n",
        "kmeansmodel_elkan = KMeans(n_clusters = n, init='k-means++', random_state=0, algorithm='elkan', n_init = 10)\n",
        "y_kmeans_elkan = kmeansmodel_elkan.fit_predict(X)\n",
        "\n"
      ],
      "metadata": {
        "id": "Btbu72wAX38Q"
      },
      "id": "Btbu72wAX38Q",
      "execution_count": null,
      "outputs": []
    },
    {
      "cell_type": "code",
      "source": [
        "\n",
        "import plotly.express as px\n",
        "clusters = pd.DataFrame(X,columns=X.columns)\n",
        "clusters['label'] = kmeansmodel_elkan.labels_\n",
        "polar = clusters.groupby(\"label\").mean().reset_index()\n",
        "polar = pd.melt(polar,id_vars=[\"label\"])\n",
        "fig4 = px.line_polar(polar, r=\"value\", theta=\"variable\", color=\"label\", line_close=True,height=800,width=600)\n",
        "fig4.show()"
      ],
      "metadata": {
        "id": "B3nnDYpzGB8X"
      },
      "id": "B3nnDYpzGB8X",
      "execution_count": null,
      "outputs": []
    },
    {
      "cell_type": "code",
      "source": [
        "pie = clusters.groupby('label').size().reset_index()\n",
        "pie.columns = ['label','value']\n",
        "px.pie(pie,values ='value',names ='label')"
      ],
      "metadata": {
        "id": "vSUkCi6YYoI7"
      },
      "id": "vSUkCi6YYoI7",
      "execution_count": null,
      "outputs": []
    },
    {
      "cell_type": "markdown",
      "id": "53381e63",
      "metadata": {
        "id": "53381e63"
      },
      "source": [
        "### Detección de anomalías\n",
        "\n",
        "Artículo 1"
      ]
    },
    {
      "cell_type": "markdown",
      "id": "de4b4041",
      "metadata": {
        "id": "de4b4041"
      },
      "source": [
        "_introduce aquí la referencia APA del artículo_\n",
        "\n",
        "título, autores, revista, año de publicación\n",
        "\n",
        "Objetivo: cuál es el objetivo de la investigación, es decir a qué problema real está aplicando la detección de anomalías.\n",
        "Técnicas de detección de anomalías empleadas.\n",
        "Principales resultados de la aplicación y de la investigación."
      ]
    },
    {
      "cell_type": "markdown",
      "id": "07567322",
      "metadata": {
        "id": "07567322"
      },
      "source": [
        "Artículo 2"
      ]
    },
    {
      "cell_type": "markdown",
      "id": "565f73cb",
      "metadata": {
        "id": "565f73cb"
      },
      "source": [
        "_introduce aquí la referencia APA del artículo_\n",
        "\n",
        "Kumari, R., Sheetanshu, Singh, M. K., Jha, R., & Singh, N. K. (2016).\n",
        "    Anomaly detection in network traffic using K-mean clustering. *2016 3rd International Conference on Recent Advances in Information Technology (RAIT).*\n",
        "\n",
        "\n",
        "título, autores, revista, año de publicación\n",
        "\n",
        "Objetivo: cuál es el objetivo de la investigación, es decir a qué problema real está aplicando la detección de anomalías.\n",
        "Técnicas de detección de anomalías empleadas.\n",
        "Principales resultados de la aplicación y de la investigación."
      ]
    }
  ],
  "metadata": {
    "kernelspec": {
      "display_name": "Python 3 (ipykernel)",
      "language": "python",
      "name": "python3"
    },
    "language_info": {
      "codemirror_mode": {
        "name": "ipython",
        "version": 3
      },
      "file_extension": ".py",
      "mimetype": "text/x-python",
      "name": "python",
      "nbconvert_exporter": "python",
      "pygments_lexer": "ipython3",
      "version": "3.8.18"
    },
    "colab": {
      "provenance": [],
      "include_colab_link": true
    }
  },
  "nbformat": 4,
  "nbformat_minor": 5
}